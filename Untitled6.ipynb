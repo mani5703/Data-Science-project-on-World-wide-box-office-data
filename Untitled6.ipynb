{
  "nbformat": 4,
  "nbformat_minor": 0,
  "metadata": {
    "colab": {
      "name": "Untitled6.ipynb",
      "provenance": []
    },
    "kernelspec": {
      "name": "python3",
      "display_name": "Python 3"
    },
    "language_info": {
      "name": "python"
    }
  },
  "cells": [
    {
      "cell_type": "code",
      "metadata": {
        "id": "PBQyHm7_tUen"
      },
      "source": [
        "\n",
        "import bs4 as bs\n",
        "import urllib.request as url_x\n",
        "import pandas as pd"
      ],
      "execution_count": null,
      "outputs": []
    },
    {
      "cell_type": "code",
      "metadata": {
        "id": "v6rf5bftuPUQ"
      },
      "source": [
        "BusinesNames=[]\n",
        "Phone=[]\n",
        "Address=[]\n",
        "\n",
        "\n",
        "url = \"https://www.yelp.com/search?cflt=restaurants&find_loc=San+Francisco%2C+CA\"\n",
        "\n",
        "urlsource=''+url+'&start='"
      ],
      "execution_count": null,
      "outputs": []
    },
    {
      "cell_type": "code",
      "metadata": {
        "colab": {
          "base_uri": "https://localhost:8080/"
        },
        "id": "imd6SgNhugK9",
        "outputId": "1c4f9396-3f17-4718-e686-0c95596c661c"
      },
      "source": [
        "no_of_pages=5\n",
        "for iteration in range(no_of_pages):\n",
        "  s=iteration*10\n",
        "  if(s==0):\n",
        "    s=1\n",
        "  source = url_x.urlopen(urlsource+str(s))\n",
        "  print(urlsource+str(s))\n",
        "\n",
        "  page_soup = bs.BeautifulSoup(source, 'html.parser')\n",
        "\n",
        "  mains = page_soup.find_all(\"span\", {\"class\": \"  css-1pxmz4g\"})\n",
        "  for main in mains:\n",
        "      try:\n",
        "          busname = main.find(\"a\", {\"class\" : \"css-166la90\"}).text\n",
        "          BusinesNames.append(busname)\n",
        "      except:\n",
        "          print(\"Information not provided\")\n",
        "  print('Loading......')\n",
        "print('Done with processing...')"
      ],
      "execution_count": null,
      "outputs": [
        {
          "output_type": "stream",
          "text": [
            "https://www.yelp.com/search?cflt=restaurants&find_loc=San+Francisco%2C+CA&start=1\n",
            "Loading......\n",
            "https://www.yelp.com/search?cflt=restaurants&find_loc=San+Francisco%2C+CA&start=10\n",
            "Loading......\n",
            "https://www.yelp.com/search?cflt=restaurants&find_loc=San+Francisco%2C+CA&start=20\n",
            "Loading......\n",
            "https://www.yelp.com/search?cflt=restaurants&find_loc=San+Francisco%2C+CA&start=30\n",
            "Loading......\n",
            "https://www.yelp.com/search?cflt=restaurants&find_loc=San+Francisco%2C+CA&start=40\n",
            "Loading......\n",
            "Done with processing...\n"
          ],
          "name": "stdout"
        }
      ]
    },
    {
      "cell_type": "code",
      "metadata": {
        "colab": {
          "base_uri": "https://localhost:8080/"
        },
        "id": "JiRxWjksum34",
        "outputId": "bcac037e-72cf-4c76-adbe-387e22e0e8c7"
      },
      "source": [
        "BusinesNames"
      ],
      "execution_count": null,
      "outputs": [
        {
          "output_type": "execute_result",
          "data": {
            "text/plain": [
              "[]"
            ]
          },
          "metadata": {
            "tags": []
          },
          "execution_count": 7
        }
      ]
    },
    {
      "cell_type": "code",
      "metadata": {
        "colab": {
          "base_uri": "https://localhost:8080/"
        },
        "id": "02EM22ARur8W",
        "outputId": "b60fa90b-4595-4b38-ec01-d33cd2919bd0"
      },
      "source": [
        "Phone"
      ],
      "execution_count": null,
      "outputs": [
        {
          "output_type": "execute_result",
          "data": {
            "text/plain": [
              "[]"
            ]
          },
          "metadata": {
            "tags": []
          },
          "execution_count": 9
        }
      ]
    },
    {
      "cell_type": "code",
      "metadata": {
        "colab": {
          "base_uri": "https://localhost:8080/"
        },
        "id": "wtFIpclAuyst",
        "outputId": "b05d3f0b-d803-467b-d8fc-146c7c49ffb3"
      },
      "source": [
        "Address"
      ],
      "execution_count": null,
      "outputs": [
        {
          "output_type": "execute_result",
          "data": {
            "text/plain": [
              "[]"
            ]
          },
          "metadata": {
            "tags": []
          },
          "execution_count": 10
        }
      ]
    },
    {
      "cell_type": "code",
      "metadata": {
        "id": "ji064dHAu3pj",
        "colab": {
          "base_uri": "https://localhost:8080/",
          "height": 214
        },
        "outputId": "9286a4dd-a795-4ae5-ceb7-5e0454034edd"
      },
      "source": [
        "dictionary = {'BusinessNames': BusinessNames, 'Phone': Phone} \n",
        "\n",
        "\n",
        "amul=pd.DataFrame(dict([(k,pd.Series(v)) for k,v in dictionary.items()]))"
      ],
      "execution_count": null,
      "outputs": [
        {
          "output_type": "error",
          "ename": "NameError",
          "evalue": "ignored",
          "traceback": [
            "\u001b[0;31m---------------------------------------------------------------------------\u001b[0m",
            "\u001b[0;31mNameError\u001b[0m                                 Traceback (most recent call last)",
            "\u001b[0;32m<ipython-input-11-5cff6a54b207>\u001b[0m in \u001b[0;36m<module>\u001b[0;34m()\u001b[0m\n\u001b[0;32m----> 1\u001b[0;31m \u001b[0mdictionary\u001b[0m \u001b[0;34m=\u001b[0m \u001b[0;34m{\u001b[0m\u001b[0;34m'BusinessNames'\u001b[0m\u001b[0;34m:\u001b[0m \u001b[0mBusinessNames\u001b[0m\u001b[0;34m,\u001b[0m \u001b[0;34m'Phone'\u001b[0m\u001b[0;34m:\u001b[0m \u001b[0mPhone\u001b[0m\u001b[0;34m}\u001b[0m\u001b[0;34m\u001b[0m\u001b[0;34m\u001b[0m\u001b[0m\n\u001b[0m\u001b[1;32m      2\u001b[0m \u001b[0;34m\u001b[0m\u001b[0m\n\u001b[1;32m      3\u001b[0m \u001b[0;34m\u001b[0m\u001b[0m\n\u001b[1;32m      4\u001b[0m \u001b[0mamul\u001b[0m\u001b[0;34m=\u001b[0m\u001b[0mpd\u001b[0m\u001b[0;34m.\u001b[0m\u001b[0mDataFrame\u001b[0m\u001b[0;34m(\u001b[0m\u001b[0mdict\u001b[0m\u001b[0;34m(\u001b[0m\u001b[0;34m[\u001b[0m\u001b[0;34m(\u001b[0m\u001b[0mk\u001b[0m\u001b[0;34m,\u001b[0m\u001b[0mpd\u001b[0m\u001b[0;34m.\u001b[0m\u001b[0mSeries\u001b[0m\u001b[0;34m(\u001b[0m\u001b[0mv\u001b[0m\u001b[0;34m)\u001b[0m\u001b[0;34m)\u001b[0m \u001b[0;32mfor\u001b[0m \u001b[0mk\u001b[0m\u001b[0;34m,\u001b[0m\u001b[0mv\u001b[0m \u001b[0;32min\u001b[0m \u001b[0mdictionary\u001b[0m\u001b[0;34m.\u001b[0m\u001b[0mitems\u001b[0m\u001b[0;34m(\u001b[0m\u001b[0;34m)\u001b[0m\u001b[0;34m]\u001b[0m\u001b[0;34m)\u001b[0m\u001b[0;34m)\u001b[0m\u001b[0;34m\u001b[0m\u001b[0;34m\u001b[0m\u001b[0m\n",
            "\u001b[0;31mNameError\u001b[0m: name 'BusinessNames' is not defined"
          ]
        }
      ]
    },
    {
      "cell_type": "code",
      "metadata": {
        "id": "WTssJ6Zdu9Gz",
        "colab": {
          "base_uri": "https://localhost:8080/",
          "height": 163
        },
        "outputId": "64d9a5e0-4212-4f28-e2bd-521d5a9d2b57"
      },
      "source": [
        "amul"
      ],
      "execution_count": null,
      "outputs": [
        {
          "output_type": "error",
          "ename": "NameError",
          "evalue": "ignored",
          "traceback": [
            "\u001b[0;31m---------------------------------------------------------------------------\u001b[0m",
            "\u001b[0;31mNameError\u001b[0m                                 Traceback (most recent call last)",
            "\u001b[0;32m<ipython-input-12-c5df02e4f489>\u001b[0m in \u001b[0;36m<module>\u001b[0;34m()\u001b[0m\n\u001b[0;32m----> 1\u001b[0;31m \u001b[0mamul\u001b[0m\u001b[0;34m\u001b[0m\u001b[0;34m\u001b[0m\u001b[0m\n\u001b[0m",
            "\u001b[0;31mNameError\u001b[0m: name 'amul' is not defined"
          ]
        }
      ]
    }
  ]
}